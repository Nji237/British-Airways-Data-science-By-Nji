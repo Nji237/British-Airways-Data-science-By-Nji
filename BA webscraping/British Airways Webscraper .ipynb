{
 "cells": [
  {
   "cell_type": "markdown",
   "id": "33e07e58",
   "metadata": {},
   "source": [
    "<center><b>British Airways - Data Collection</b></center>"
   ]
  },
  {
   "cell_type": "markdown",
   "id": "9f8d976c",
   "metadata": {},
   "source": [
    "During this stage, our task involves gathering customer ratings data from a website named Skytrax, which specializes in airline quality. Specifically, we will be gathering data related to the ratings of airlines,date, reviews,country."
   ]
  },
  {
   "cell_type": "markdown",
   "id": "f97bd4fe",
   "metadata": {},
   "source": [
    "<b>Import</b>"
   ]
  },
  {
   "cell_type": "code",
   "execution_count": 1,
   "id": "445ac3d3",
   "metadata": {},
   "outputs": [
    {
     "name": "stdout",
     "output_type": "stream",
     "text": [
      "done\n"
     ]
    }
   ],
   "source": [
    "import requests\n",
    "\n",
    "from bs4 import BeautifulSoup # this module helps in web scrapping.\n",
    "\n",
    "import pandas as pd\n",
    "\n",
    "import csv\n",
    "\n",
    "print(\"done\")"
   ]
  },
  {
   "cell_type": "markdown",
   "id": "2df80300",
   "metadata": {},
   "source": [
    "<b>HTTP Request</b>"
   ]
  },
  {
   "cell_type": "markdown",
   "id": "89def8ab",
   "metadata": {},
   "source": [
    "<b>Store Url in a variable</b>"
   ]
  },
  {
   "cell_type": "code",
   "execution_count": 2,
   "id": "3170d691",
   "metadata": {},
   "outputs": [],
   "source": [
    "base_url = \"https://www.airlinequality.com/airline-reviews/british-airways/\""
   ]
  },
  {
   "cell_type": "markdown",
   "id": "3d7bee15",
   "metadata": {},
   "source": [
    "<b>Defining user Agent</b>"
   ]
  },
  {
   "cell_type": "code",
   "execution_count": 3,
   "id": "a8cde881",
   "metadata": {},
   "outputs": [],
   "source": [
    "#Create a session object\n",
    "session = requests.Session()\n",
    "#Just so the website doesnt block your request\n",
    "headers = {\"User-Agent\":\"Mozilla/5.0 (Windows NT 10.0; Win64; x64) AppleWebKit/537.36 (KHTML, like Gecko) Chrome/110.0.0.0 Safari/537.36\"}"
   ]
  },
  {
   "cell_type": "markdown",
   "id": "bcd1e79b",
   "metadata": {},
   "source": [
    "<b>Storage Unit</b>"
   ]
  },
  {
   "cell_type": "code",
   "execution_count": 4,
   "id": "7fd78d42",
   "metadata": {},
   "outputs": [
    {
     "name": "stdout",
     "output_type": "stream",
     "text": [
      "done\n"
     ]
    }
   ],
   "source": [
    "#create an empty list to collect all datePublished \n",
    "review_dates = []\n",
    "\n",
    "#create an empty list to collect all reviews\n",
    "review_texts  = []\n",
    "\n",
    "#create an empty list to collect rating \n",
    "review_ratings = []\n",
    "\n",
    "#create an empty list to collect location \n",
    "review_locations = []\n",
    "\n",
    "print(\"done\")"
   ]
  },
  {
   "cell_type": "markdown",
   "id": "6aa88b00",
   "metadata": {},
   "source": [
    "<b>Results</b>"
   ]
  },
  {
   "cell_type": "code",
   "execution_count": 5,
   "id": "b46c2c77",
   "metadata": {},
   "outputs": [
    {
     "name": "stdout",
     "output_type": "stream",
     "text": [
      "done\n"
     ]
    }
   ],
   "source": [
    "for x in range(1,362):\n",
    "    #Loop through various pages since it is dynamic \n",
    "    URL = f\"{base_url}page/{x}\"\n",
    "    #print(URL)\n",
    "    \n",
    "    #Use session to request webpage and store it as a variable\n",
    "    urls = session.get(URL, headers=headers)\n",
    "    \n",
    "    # Check status code of response\n",
    "    if urls.status_code != 200:\n",
    "        print(f\"Failed to retrieve page {x}. Status code: {response.status_code}\")\n",
    "        continue\n",
    "        \n",
    "    #Use Beautifulsoup to parse the html and store it as a varible \n",
    "    soup = BeautifulSoup(urls.content, \"html.parser\")\n",
    "    \n",
    "    # Use list comprehension to extract data from soup object\n",
    "    results = [result for result in soup.find_all(\"article\", {\"itemprop\": \"review\"})]\n",
    "\n",
    "    for results in results:\n",
    "        #dates\n",
    "        review_dates.append(results.find('meta', {\"itemprop\": \"datePublished\"}).get(\"content\"))\n",
    "        #ratings\n",
    "        try:\n",
    "            review_ratings.append(results.find('span', {\"itemprop\": \"ratingValue\"}).text)\n",
    "        except:\n",
    "            review_ratings.append(\"N/A\")\n",
    "        #review\n",
    "        try:\n",
    "            review_texts.append(results.find('div',class_=\"text_content\").text)\n",
    "        except:\n",
    "            review_texts.append(\"N/A\")\n",
    "        #location\n",
    "        review_locations.append(results.find(\"h3\").span.next_sibling.text.strip(\" ()\"))\n",
    "print(\"done\")"
   ]
  },
  {
   "cell_type": "code",
   "execution_count": 6,
   "id": "79c8be23",
   "metadata": {},
   "outputs": [
    {
     "name": "stdout",
     "output_type": "stream",
     "text": [
      "done\n"
     ]
    }
   ],
   "source": [
    "df = pd.DataFrame()\n",
    "df = pd.DataFrame({ \"Date\": review_dates,\"Reviews\":review_texts,\"Rating\": review_ratings,\"Location\": review_locations,})\n",
    "df['Reviews'] = df['Reviews'].apply(lambda x:x.strip(\"✅ Trip Verified |\").strip(\"Not Verified |\"))\n",
    "df.head()\n",
    "df.tail()\n",
    "print(\"done\")"
   ]
  },
  {
   "cell_type": "code",
   "execution_count": 7,
   "id": "42af5621",
   "metadata": {},
   "outputs": [
    {
     "name": "stdout",
     "output_type": "stream",
     "text": [
      "done\n"
     ]
    }
   ],
   "source": [
    "df.shape\n",
    "print(\"done\")"
   ]
  },
  {
   "cell_type": "code",
   "execution_count": 8,
   "id": "1584afb9",
   "metadata": {},
   "outputs": [
    {
     "name": "stdout",
     "output_type": "stream",
     "text": [
      "done\n"
     ]
    }
   ],
   "source": [
    "df.to_csv(\"Data BA/BA_reviews.csv\")\n",
    "print(\"done\")"
   ]
  },
  {
   "cell_type": "markdown",
   "id": "73f2c92b",
   "metadata": {},
   "source": [
    "<center><b>THE  END </b></center>"
   ]
  },
  {
   "cell_type": "code",
   "execution_count": null,
   "id": "1cd5be41",
   "metadata": {},
   "outputs": [],
   "source": []
  }
 ],
 "metadata": {
  "kernelspec": {
   "display_name": "Python 3 (ipykernel)",
   "language": "python",
   "name": "python3"
  },
  "language_info": {
   "codemirror_mode": {
    "name": "ipython",
    "version": 3
   },
   "file_extension": ".py",
   "mimetype": "text/x-python",
   "name": "python",
   "nbconvert_exporter": "python",
   "pygments_lexer": "ipython3",
   "version": "3.9.12"
  }
 },
 "nbformat": 4,
 "nbformat_minor": 5
}
